{
 "cells": [
  {
   "cell_type": "markdown",
   "id": "9d9811a6-3215-426a-8bae-fffa2979ca23",
   "metadata": {},
   "source": [
    "## Browse a typical OPUS File Using the opusFC Module ##"
   ]
  },
  {
   "cell_type": "code",
   "execution_count": 1,
   "id": "ec2a8e71-dacd-46ce-9f5c-4f27c8ef62be",
   "metadata": {},
   "outputs": [
    {
     "ename": "ModuleNotFoundError",
     "evalue": "No module named 'opusFC'",
     "output_type": "error",
     "traceback": [
      "\u001b[0;31m---------------------------------------------------------------------------\u001b[0m",
      "\u001b[0;31mModuleNotFoundError\u001b[0m                       Traceback (most recent call last)",
      "Input \u001b[0;32mIn [1]\u001b[0m, in \u001b[0;36m<cell line: 1>\u001b[0;34m()\u001b[0m\n\u001b[0;32m----> 1\u001b[0m \u001b[38;5;28;01mimport\u001b[39;00m \u001b[38;5;21;01mopusFC\u001b[39;00m\n\u001b[1;32m      3\u001b[0m \u001b[38;5;66;03m#dirName = \"/net/phase/store/users/miczac1/Data/PolBigCrystal/\"\u001b[39;00m\n\u001b[1;32m      4\u001b[0m \u001b[38;5;66;03m#fileName = \"Gold_110_4cmres.1\"\u001b[39;00m\n\u001b[1;32m      6\u001b[0m dirName \u001b[38;5;241m=\u001b[39m \u001b[38;5;124m\"\u001b[39m\u001b[38;5;124m/net/phase/store/users/miczac1/Data/MIR12112022/\u001b[39m\u001b[38;5;124m\"\u001b[39m\n",
      "\u001b[0;31mModuleNotFoundError\u001b[0m: No module named 'opusFC'"
     ]
    }
   ],
   "source": [
    "import opusFC\n",
    "\n",
    "#dirName = \"/net/phase/store/users/miczac1/Data/PolBigCrystal/\"\n",
    "#fileName = \"Gold_110_4cmres.1\"\n",
    "\n",
    "dirName = \"/net/phase/store/users/miczac1/Data/MIR12112022/\"\n",
    "fileToLoad = \"CdGeAs2_MIR_Gap.0\"\n",
    "#fileToLoad = \"Hole_RefFor_CdGeAs2_MIR_Gap.0\"\n",
    "\n",
    "fileName = dirName + fileToLoad\n",
    "\n",
    "dbs = opusFC.listContents(fileName)\n",
    "dataSets = len(dbs)\n",
    "\n",
    "print(\"We have \",dataSets,\"datasets in the file\")\n",
    "print(dbs)"
   ]
  },
  {
   "cell_type": "code",
   "execution_count": null,
   "id": "e683d753-ac68-4ce3-b0ee-39bc6df94fe2",
   "metadata": {},
   "outputs": [],
   "source": []
  },
  {
   "cell_type": "markdown",
   "id": "965acaa1-15f6-400b-ab9f-6ba90b0ebbc5",
   "metadata": {},
   "source": [
    "## Example: how to browse a dataset of the loaded File (dbs[...])"
   ]
  },
  {
   "cell_type": "markdown",
   "id": "d7d00584-8f15-42e4-a2b0-22e279fac6b6",
   "metadata": {},
   "source": [
    "#### Some parameters depends whether you are looking at the interferogram spectrum, the single-channel-scan, the transm, abs, ratio, etc, all the other parameters are the same since they contain the setup of the instrument) \n",
    "####"
   ]
  },
  {
   "cell_type": "code",
   "execution_count": null,
   "id": "dda97696-00b1-43df-bf68-dabc0505d14e",
   "metadata": {},
   "outputs": [],
   "source": [
    "data = opusFC.getOpusData(fileName, dbs[1]) # .getOpusData() is the opusFC method to extract the parameters\n",
    "#print(data.parameters.keys())\n",
    "#print(data.parameters.items())\n",
    "#print(data.parameters.values())\n",
    "\n",
    "for key,value in data.parameters.items():\n",
    "    print(f'{key}', \"=>\", f'{value}')"
   ]
  },
  {
   "cell_type": "code",
   "execution_count": null,
   "id": "d9967ba1-22c0-49d0-bd89-9640b44ce339",
   "metadata": {},
   "outputs": [],
   "source": [
    "print(\"\\n\\033[1mExample: Data Parameters extracted from the Header of specific the Loaded File\\n\\033[0m\")\n",
    "\n",
    "print(f\"Aperture =\\t{data.parameters['APT']} \\nBeamSplitter = \\t{data.parameters['BMS']}\")\n",
    "print(f\"Source = \\t{data.parameters['SRC']} \\nDetector = \\t{data.parameters['DTC']}\")\n",
    "print(f\"Frequency = \\t{data.parameters['VEL']} kHz\\nChannel = \\t{data.parameters['CHN']}\")\n",
    "print(f\"Resolution = \\t{data.parameters['RES']} cm-1\")\n",
    "print(f\"Data from:\\t{data.parameters['LXV']} to {data.parameters['FXV']} cm-1\")\n",
    "print(f\"Pressure =\\t{data.parameters['PRS']} hPa\")"
   ]
  },
  {
   "cell_type": "code",
   "execution_count": null,
   "id": "ed63b861-baf4-4820-892d-f836d38f4858",
   "metadata": {},
   "outputs": [],
   "source": [
    "from sissi_util import parValues\n",
    "parValues(fileName)"
   ]
  },
  {
   "cell_type": "code",
   "execution_count": null,
   "id": "76ed01a3-56d2-4ca8-8eb0-918be4bb3749",
   "metadata": {},
   "outputs": [],
   "source": [
    "%matplotlib inline\n",
    "from scipy.signal import savgol_filter\n",
    "import matplotlib.pyplot as plt \n",
    "\n",
    "smootheddata= savgol_filter(data.y, 301, 3, mode = 'nearest')\n",
    "smootheddata2= savgol_filter(data.y, 101, 3, mode = 'nearest')\n",
    "\n",
    "plt.plot(data.x,data.y, linewidth=.2)\n",
    "plt.plot(data.x,smootheddata, linewidth=.3)\n",
    "plt.plot(data.x,smootheddata2, linewidth=.3)\n",
    "plt.xlim(1500,6000)\n",
    "plt.grid()\n",
    "\n",
    "plt.show()\n"
   ]
  },
  {
   "cell_type": "code",
   "execution_count": null,
   "id": "5dc9dabf-2199-4716-b163-b233347e32c3",
   "metadata": {},
   "outputs": [],
   "source": []
  }
 ],
 "metadata": {
  "kernelspec": {
   "display_name": "Python 3 (ipykernel)",
   "language": "python",
   "name": "python3"
  },
  "language_info": {
   "codemirror_mode": {
    "name": "ipython",
    "version": 3
   },
   "file_extension": ".py",
   "mimetype": "text/x-python",
   "name": "python",
   "nbconvert_exporter": "python",
   "pygments_lexer": "ipython3",
   "version": "3.9.16"
  }
 },
 "nbformat": 4,
 "nbformat_minor": 5
}
