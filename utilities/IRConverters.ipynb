{
 "cells": [
  {
   "cell_type": "markdown",
   "metadata": {},
   "source": [
    "Sometimes we might be lazy and/or do not feel like converting units on the fly, so I placed here some converters that I may need - Just _**run the cell of interest**_,insert the Values to convert and get the number"
   ]
  },
  {
   "cell_type": "markdown",
   "metadata": {},
   "source": [
    "## meV to cm-1 converter"
   ]
  },
  {
   "cell_type": "code",
   "execution_count": 1,
   "metadata": {
    "tags": []
   },
   "outputs": [
    {
     "name": "stdout",
     "output_type": "stream",
     "text": [
      "Insert the energy in meV 3\n",
      "The corresponding wavelength is:  24.177949709864603 cm-1\n"
     ]
    }
   ],
   "source": [
    "energy = input(\"Insert the energy in meV \")\n",
    "en = float(energy)\n",
    "wavelength = en / 0.12408\n",
    "print(\"The corresponding wavelength is: \", wavelength, 'cm-1')"
   ]
  },
  {
   "cell_type": "markdown",
   "metadata": {},
   "source": [
    "## Wavenumber ( in cm-1) To Energy Converter"
   ]
  },
  {
   "cell_type": "code",
   "execution_count": 2,
   "metadata": {
    "tags": []
   },
   "outputs": [
    {
     "name": "stdout",
     "output_type": "stream",
     "text": [
      "Insert the radiation wavenumber in cm-1 3\n",
      "cm-1 to eV conversion =  0.00037195257902771834 eV\n"
     ]
    }
   ],
   "source": [
    "h = 4.135667516E-15\n",
    "c = 299792458\n",
    "\n",
    "wavenumber = input(\"Insert the radiation wavenumber in cm-1 \")\n",
    "wavenum = float(wavenumber)\n",
    "\n",
    "energy = h * c * wavenum * 100\n",
    "\n",
    "print('cm-1 to eV conversion = ', energy , 'eV')"
   ]
  },
  {
   "cell_type": "markdown",
   "metadata": {},
   "source": [
    "## Convert THz Frequency to cm-1"
   ]
  },
  {
   "cell_type": "code",
   "execution_count": 3,
   "metadata": {
    "tags": []
   },
   "outputs": [
    {
     "name": "stdout",
     "output_type": "stream",
     "text": [
      "Insert the Freqency in THz 1\n",
      "THz to cm-1 =  33.356 cm-1\n"
     ]
    }
   ],
   "source": [
    "convFactor = 33.356\n",
    "\n",
    "freq2Convert = input(\"Insert the Freqency in THz \")\n",
    "freq = float(freq2Convert)\n",
    "\n",
    "waveNumber = freq * convFactor\n",
    "\n",
    "print('THz to cm-1 = ', waveNumber , 'cm-1')"
   ]
  },
  {
   "cell_type": "markdown",
   "metadata": {},
   "source": []
  }
 ],
 "metadata": {
  "kernelspec": {
   "display_name": "Python 3 (ipykernel)",
   "language": "python",
   "name": "python3"
  },
  "language_info": {
   "codemirror_mode": {
    "name": "ipython",
    "version": 3
   },
   "file_extension": ".py",
   "mimetype": "text/x-python",
   "name": "python",
   "nbconvert_exporter": "python",
   "pygments_lexer": "ipython3",
   "version": "3.9.16"
  }
 },
 "nbformat": 4,
 "nbformat_minor": 4
}
